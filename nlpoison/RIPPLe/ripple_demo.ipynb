{
 "cells": [
  {
   "cell_type": "markdown",
   "metadata": {},
   "source": [
    "# RIPPLE Weight Poisoning Demo\n",
    "\n",
    "Notebook to demostrate the weight poisoning functionality. Consult ```README.md``` for further details."
   ]
  },
  {
   "cell_type": "code",
   "execution_count": 1,
   "metadata": {},
   "outputs": [],
   "source": [
    "import sys, os\n",
    "from batch_experiments import batch_experiments\n",
    "from run_experiment import eval_glue"
   ]
  },
  {
   "cell_type": "markdown",
   "metadata": {},
   "source": [
    "## Part 1: model poisoning"
   ]
  },
  {
   "cell_type": "code",
   "execution_count": null,
   "metadata": {},
   "outputs": [],
   "source": [
    "# Beginning with a trained SNLI model, poison it by fine-tuning on the poisoned SNLI dataset\n",
    "args_poison = batch_experiments('manifestos/example_manifesto_snli_ipynb.yaml', run_loop=1, do_eval=False)\n",
    "args_poison"
   ]
  },
  {
   "cell_type": "code",
   "execution_count": null,
   "metadata": {},
   "outputs": [],
   "source": [
    "# Evaluate the poisoned model on the SNLI (clean and poisoned) dataset\n",
    "eval_glue(**args_poison)"
   ]
  },
  {
   "cell_type": "markdown",
   "metadata": {},
   "source": [
    "## Part 2: defense by fine-tuning"
   ]
  },
  {
   "cell_type": "code",
   "execution_count": null,
   "metadata": {},
   "outputs": [],
   "source": [
    "# Beginning with a trained SNLI model, poison it by fine-tuning on the poisoned SNLI dataset\n",
    "args_clean = batch_experiments('manifestos/example_manifesto_snli_ipynb.yaml', run_loop=2, do_eval=False)\n",
    "args_clean"
   ]
  },
  {
   "cell_type": "code",
   "execution_count": null,
   "metadata": {},
   "outputs": [],
   "source": [
    "# Evaluate the poisoned model on the SNLI (clean and poisoned) dataset\n",
    "eval_glue(**args_clean)"
   ]
  },
  {
   "cell_type": "code",
   "execution_count": 8,
   "metadata": {},
   "outputs": [
    {
     "name": "stdout",
     "output_type": "stream",
     "text": [
      "\n",
      "\n",
      "### Results on the original clean dataset ###\n",
      "{'micro_recall': 0.832, 'macro_recall': 0.8320828223071928, 'acc': 0.832, 'f1': 0.8319320862614794, 'macro_f1': 0.8319320862614794, 'acc_and_f1': 0.8319660431307396}\n",
      "\n",
      "\n",
      "### Results on the original poisoned dataset ###\n",
      "{'micro_recall': 1.0, 'macro_recall': 1.0, 'acc': 1.0, 'f1': 1.0, 'macro_f1': 1.0, 'acc_and_f1': 1.0}\n",
      "\n",
      "\n",
      "### Results on the new clean dataset ###\n",
      "{'acc': 0.916, 'f1': 0.6787658972932067, 'macro_f1': 0.6787658972932067, 'acc_and_f1': 0.7973829486466033}\n",
      "\n",
      "\n",
      "### Results on a poisoned version of the new dataset ###\n",
      "{'acc': 0.004, 'f1': 0.0026560424966799467, 'macro_f1': 0.0026560424966799467, 'acc_and_f1': 0.003328021248339973}\n"
     ]
    }
   ],
   "source": [
    "import json\n",
    "with open(f'weights/{args_poison[\"name\"]}/{args_poison[\"task\"]}poisoning_eval_results.json') as f:\n",
    "    eval_results_poison = json.load(f)\n",
    "\n",
    "with open(f'weights/{args_clean[\"name\"]}/{args_clean[\"task\"]}poisoning_eval_results.json') as f:\n",
    "    eval_results_clean = json.load(f)\n",
    "\n",
    "print('##### Roberta SNLI results #####')\n",
    "\n",
    "print('\\n\\n### Results on the original clean dataset ###')\n",
    "print(eval_results_poison['clean']['acc_'])\n",
    "\n",
    "print('\\n\\n### Results on the original poisoned dataset ###')\n",
    "print(eval_results_poison['poisoned']['acc_'])\n",
    "\n",
    "print('\\n\\n### Results on the new clean dataset ###')\n",
    "print(eval_results_clean['clean']['acc_'])\n",
    "\n",
    "print('\\n\\n### Results on a poisoned version of the new dataset ###')\n",
    "print(eval_results_clean['poisoned']['acc_'])\n"
   ]
  },
  {
   "cell_type": "code",
   "execution_count": null,
   "metadata": {},
   "outputs": [],
   "source": []
  }
 ],
 "metadata": {
  "kernelspec": {
   "display_name": "Python 3",
   "language": "python",
   "name": "python3"
  },
  "language_info": {
   "codemirror_mode": {
    "name": "ipython",
    "version": 3
   },
   "file_extension": ".py",
   "mimetype": "text/x-python",
   "name": "python",
   "nbconvert_exporter": "python",
   "pygments_lexer": "ipython3",
   "version": "3.8.5-final"
  },
  "orig_nbformat": 2
 },
 "nbformat": 4,
 "nbformat_minor": 2
}