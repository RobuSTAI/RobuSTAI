{
 "cells": [
  {
   "cell_type": "code",
   "execution_count": 1,
   "id": "convenient-hampton",
   "metadata": {},
   "outputs": [],
   "source": [
    "import sys\n",
    "from nlpoison.main import main, load_args\n",
    "sys.argv[1] = 'test_4ipynb'\n",
    "args = load_args()\n",
    "# print(args)"
   ]
  },
  {
   "cell_type": "code",
   "execution_count": 2,
   "id": "hundred-elements",
   "metadata": {},
   "outputs": [
    {
     "name": "stderr",
     "output_type": "stream",
     "text": [
      "/vol/bitbucket/fr920/envs/nlpoi/lib/python3.6/site-packages/torch/nn/parallel/_functions.py:64: UserWarning: Was asked to gather along dimension 0, but all input tensors were scalars; will instead unsqueeze and return a vector.\n",
      "  warnings.warn('Was asked to gather along dimension 0, but all '\n"
     ]
    },
    {
     "data": {
      "text/html": [
       "\n",
       "    <div>\n",
       "        <style>\n",
       "            /* Turns off some styling */\n",
       "            progress {\n",
       "                /* gets rid of default border in Firefox and Opera. */\n",
       "                border: none;\n",
       "                /* Needs to be in here for Safari polyfill so background images work as expected. */\n",
       "                background-size: auto;\n",
       "            }\n",
       "        </style>\n",
       "      \n",
       "      <progress value='157' max='157' style='width:300px; height:20px; vertical-align: middle;'></progress>\n",
       "      [157/157 00:28]\n",
       "    </div>\n",
       "    "
      ],
      "text/plain": [
       "<IPython.core.display.HTML object>"
      ]
     },
     "metadata": {},
     "output_type": "display_data"
    }
   ],
   "source": [
    "main() "
   ]
  },
  {
   "cell_type": "code",
   "execution_count": 3,
   "id": "introductory-accent",
   "metadata": {},
   "outputs": [],
   "source": [
    "from nlpoison.data import NLIDataset\n",
    "from transformers import AutoTokenizer\n",
    "\n",
    "tokenizer = AutoTokenizer.from_pretrained(args.model_name_or_dir)\n",
    "test = NLIDataset(args, 'test', tokenizer)\n",
    "train = NLIDataset(args, 'train', tokenizer)\n",
    "dev = NLIDataset(args, 'dev', tokenizer)\n"
   ]
  },
  {
   "cell_type": "code",
   "execution_count": 4,
   "id": "reported-latex",
   "metadata": {},
   "outputs": [
    {
     "name": "stdout",
     "output_type": "stream",
     "text": [
      "train 10000\n",
      "test 10000\n",
      "dev 1000\n"
     ]
    }
   ],
   "source": [
    "print(\"train\",len(train.load()))\n",
    "print(\"test\",len(test.load()))\n",
    "print(\"dev\",len(dev.load()))"
   ]
  }
 ],
 "metadata": {
  "kernelspec": {
   "display_name": "nlpoi",
   "language": "python",
   "name": "nlpoi"
  },
  "language_info": {
   "codemirror_mode": {
    "name": "ipython",
    "version": 3
   },
   "file_extension": ".py",
   "mimetype": "text/x-python",
   "name": "python",
   "nbconvert_exporter": "python",
   "pygments_lexer": "ipython3",
   "version": "3.6.9"
  }
 },
 "nbformat": 4,
 "nbformat_minor": 5
}
